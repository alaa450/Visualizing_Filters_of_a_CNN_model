{
  "nbformat": 4,
  "nbformat_minor": 0,
  "metadata": {
    "colab": {
      "provenance": [],
      "authorship_tag": "ABX9TyPGfEPA1lOmusSYcWCnkN7J",
      "include_colab_link": true
    },
    "kernelspec": {
      "name": "python3",
      "display_name": "Python 3"
    },
    "language_info": {
      "name": "python"
    }
  },
  "cells": [
    {
      "cell_type": "markdown",
      "metadata": {
        "id": "view-in-github",
        "colab_type": "text"
      },
      "source": [
        "<a href=\"https://colab.research.google.com/github/alaa450/Visualizing_Filters_of_a_CNN_model/blob/main/KerasTuner.ipynb\" target=\"_parent\"><img src=\"https://colab.research.google.com/assets/colab-badge.svg\" alt=\"Open In Colab\"/></a>"
      ]
    },
    {
      "cell_type": "code",
      "source": [
        "!pip install keras-tuner"
      ],
      "metadata": {
        "colab": {
          "base_uri": "https://localhost:8080/"
        },
        "id": "9kYM12oBExTH",
        "outputId": "2cc3cb4a-7c84-4c91-ea4a-5b38681d8291"
      },
      "execution_count": 2,
      "outputs": [
        {
          "output_type": "stream",
          "name": "stdout",
          "text": [
            "Collecting keras-tuner\n",
            "  Downloading keras_tuner-1.4.7-py3-none-any.whl.metadata (5.4 kB)\n",
            "Requirement already satisfied: keras in /usr/local/lib/python3.10/dist-packages (from keras-tuner) (3.4.1)\n",
            "Requirement already satisfied: packaging in /usr/local/lib/python3.10/dist-packages (from keras-tuner) (24.1)\n",
            "Requirement already satisfied: requests in /usr/local/lib/python3.10/dist-packages (from keras-tuner) (2.32.3)\n",
            "Collecting kt-legacy (from keras-tuner)\n",
            "  Downloading kt_legacy-1.0.5-py3-none-any.whl.metadata (221 bytes)\n",
            "Requirement already satisfied: absl-py in /usr/local/lib/python3.10/dist-packages (from keras->keras-tuner) (1.4.0)\n",
            "Requirement already satisfied: numpy in /usr/local/lib/python3.10/dist-packages (from keras->keras-tuner) (1.26.4)\n",
            "Requirement already satisfied: rich in /usr/local/lib/python3.10/dist-packages (from keras->keras-tuner) (13.8.1)\n",
            "Requirement already satisfied: namex in /usr/local/lib/python3.10/dist-packages (from keras->keras-tuner) (0.0.8)\n",
            "Requirement already satisfied: h5py in /usr/local/lib/python3.10/dist-packages (from keras->keras-tuner) (3.11.0)\n",
            "Requirement already satisfied: optree in /usr/local/lib/python3.10/dist-packages (from keras->keras-tuner) (0.12.1)\n",
            "Requirement already satisfied: ml-dtypes in /usr/local/lib/python3.10/dist-packages (from keras->keras-tuner) (0.4.1)\n",
            "Requirement already satisfied: charset-normalizer<4,>=2 in /usr/local/lib/python3.10/dist-packages (from requests->keras-tuner) (3.3.2)\n",
            "Requirement already satisfied: idna<4,>=2.5 in /usr/local/lib/python3.10/dist-packages (from requests->keras-tuner) (3.10)\n",
            "Requirement already satisfied: urllib3<3,>=1.21.1 in /usr/local/lib/python3.10/dist-packages (from requests->keras-tuner) (2.0.7)\n",
            "Requirement already satisfied: certifi>=2017.4.17 in /usr/local/lib/python3.10/dist-packages (from requests->keras-tuner) (2024.8.30)\n",
            "Requirement already satisfied: typing-extensions>=4.5.0 in /usr/local/lib/python3.10/dist-packages (from optree->keras->keras-tuner) (4.12.2)\n",
            "Requirement already satisfied: markdown-it-py>=2.2.0 in /usr/local/lib/python3.10/dist-packages (from rich->keras->keras-tuner) (3.0.0)\n",
            "Requirement already satisfied: pygments<3.0.0,>=2.13.0 in /usr/local/lib/python3.10/dist-packages (from rich->keras->keras-tuner) (2.18.0)\n",
            "Requirement already satisfied: mdurl~=0.1 in /usr/local/lib/python3.10/dist-packages (from markdown-it-py>=2.2.0->rich->keras->keras-tuner) (0.1.2)\n",
            "Downloading keras_tuner-1.4.7-py3-none-any.whl (129 kB)\n",
            "\u001b[2K   \u001b[90m━━━━━━━━━━━━━━━━━━━━━━━━━━━━━━━━━━━━━━━━\u001b[0m \u001b[32m129.1/129.1 kB\u001b[0m \u001b[31m2.2 MB/s\u001b[0m eta \u001b[36m0:00:00\u001b[0m\n",
            "\u001b[?25hDownloading kt_legacy-1.0.5-py3-none-any.whl (9.6 kB)\n",
            "Installing collected packages: kt-legacy, keras-tuner\n",
            "Successfully installed keras-tuner-1.4.7 kt-legacy-1.0.5\n"
          ]
        }
      ]
    },
    {
      "cell_type": "code",
      "execution_count": 3,
      "metadata": {
        "colab": {
          "base_uri": "https://localhost:8080/"
        },
        "id": "PH0nn83vEdDk",
        "outputId": "a7424614-407a-4822-8a80-25cda7fdda4a"
      },
      "outputs": [
        {
          "output_type": "stream",
          "name": "stderr",
          "text": [
            "<ipython-input-3-fdd3d342b4c0>:4: DeprecationWarning: `import kerastuner` is deprecated, please use `import keras_tuner`.\n",
            "  import kerastuner as kt\n"
          ]
        }
      ],
      "source": [
        "import numpy as np\n",
        "import matplotlib.pyplot as plt\n",
        "import tensorflow as tf\n",
        "import kerastuner as kt\n",
        "from tensorflow.keras.models import Sequential\n",
        "from tensorflow.keras.optimizers import Adam\n",
        "from tensorflow.keras.layers import Dense, Dropout, Activation, Flatten, Conv2D, MaxPooling2D, Lambda"
      ]
    },
    {
      "cell_type": "code",
      "source": [
        "(X_train, y_train), (X_test, y_test) = tf.keras.datasets.fashion_mnist.load_data()"
      ],
      "metadata": {
        "colab": {
          "base_uri": "https://localhost:8080/"
        },
        "id": "MX5sTMR0FFrE",
        "outputId": "fb98a713-873b-458e-f3d6-68a090e1f05c"
      },
      "execution_count": 4,
      "outputs": [
        {
          "output_type": "stream",
          "name": "stdout",
          "text": [
            "Downloading data from https://storage.googleapis.com/tensorflow/tf-keras-datasets/train-labels-idx1-ubyte.gz\n",
            "\u001b[1m29515/29515\u001b[0m \u001b[32m━━━━━━━━━━━━━━━━━━━━\u001b[0m\u001b[37m\u001b[0m \u001b[1m0s\u001b[0m 0us/step\n",
            "Downloading data from https://storage.googleapis.com/tensorflow/tf-keras-datasets/train-images-idx3-ubyte.gz\n",
            "\u001b[1m26421880/26421880\u001b[0m \u001b[32m━━━━━━━━━━━━━━━━━━━━\u001b[0m\u001b[37m\u001b[0m \u001b[1m0s\u001b[0m 0us/step\n",
            "Downloading data from https://storage.googleapis.com/tensorflow/tf-keras-datasets/t10k-labels-idx1-ubyte.gz\n",
            "\u001b[1m5148/5148\u001b[0m \u001b[32m━━━━━━━━━━━━━━━━━━━━\u001b[0m\u001b[37m\u001b[0m \u001b[1m0s\u001b[0m 1us/step\n",
            "Downloading data from https://storage.googleapis.com/tensorflow/tf-keras-datasets/t10k-images-idx3-ubyte.gz\n",
            "\u001b[1m4422102/4422102\u001b[0m \u001b[32m━━━━━━━━━━━━━━━━━━━━\u001b[0m\u001b[37m\u001b[0m \u001b[1m0s\u001b[0m 0us/step\n"
          ]
        }
      ]
    },
    {
      "cell_type": "code",
      "source": [
        "random_indices = np.random.randint(len(X_train), size = 5)\n",
        "print(random_indices)\n",
        "random_images = X_train[random_indices]\n",
        "random_output = y_train[random_indices]\n",
        "plt.figure(figsize=(10,10))\n",
        "for index in range(5):\n",
        "     plt.subplot(1,8,index+1)\n",
        "     plt.imshow(random_images[index], cmap= 'binary')\n",
        "     plt.title (\"It's a class \" + str(random_output[index]) +  \" picture.\",fontdict={'fontsize': 6})\n",
        "     plt.axis(\"off\")\n",
        "plt.tight_layout()\n",
        "plt.show()"
      ],
      "metadata": {
        "colab": {
          "base_uri": "https://localhost:8080/",
          "height": 177
        },
        "id": "UehJIUWUFFwU",
        "outputId": "e80dd319-44f4-4cc8-8e27-f4ae9a0793c7"
      },
      "execution_count": 5,
      "outputs": [
        {
          "output_type": "stream",
          "name": "stdout",
          "text": [
            "[32756 11377 32951 16767 12506]\n"
          ]
        },
        {
          "output_type": "display_data",
          "data": {
            "text/plain": [
              "<Figure size 1000x1000 with 5 Axes>"
            ],
            "image/png": "[encoded data removed]"
          },
          "metadata": {}
        }
      ]
    },
    {
      "cell_type": "code",
      "source": [
        "def my_model(hp):\n",
        "  num_hidden_layers = 2\n",
        "  num_hidden_units = 16\n",
        "  dropout_rate = 0.1\n",
        "  lr = 0.01\n",
        "\n",
        "  if hp:\n",
        "    num_hidden_layers = hp.Choice('num_hidden_layers', values=[1,2,3])\n",
        "    num_hidden_units = hp.Choice('num_hidden_units', values=[16,32,64])\n",
        "    dropout_rate = hp.Float('dropout_rate', min_value=0.1, max_value=0.5)\n",
        "    lr = hp.Float('lr', min_value=0.001, max_value=0.01)\n",
        "  model = Sequential()\n",
        "  model.add(Flatten(input_shape=(28,28)))\n",
        "  model.add(Lambda(lambda x: x / 255.0))\n",
        "\n",
        "  for i in range(num_hidden_layers):\n",
        "    model.add(Dense(num_hidden_units, activation='relu'))\n",
        "    model.add(Dropout(dropout_rate))\n",
        "\n",
        "\n",
        "  model.add(Dense(10, activation='softmax'))\n",
        "  model.compile(optimizer= Adam(learning_rate = lr), loss='sparse_categorical_crossentropy', metrics=['accuracy'])\n",
        "  return model"
      ],
      "metadata": {
        "id": "8OQXp03XGiFq"
      },
      "execution_count": 8,
      "outputs": []
    },
    {
      "cell_type": "code",
      "source": [
        "class CustomTuner(kt.tuners.BayesianOptimization):\n",
        "  def run_trial(self, trial, *args,**kwargs):\n",
        "    kwargs['batch_size'] = trial.hyperparameters.Int('batch_size', 32, 128, step=32)\n",
        "    returned_value = super(CustomTuner,self).run_trial(trial,*args,**kwargs)\n",
        "    return returned_value\n",
        "\n",
        "tuner= CustomTuner(my_model, objective ='val_accuracy', max_trials=20,\n",
        "                   directory='logs',project_name='fashion_mnist', overwrite=True)"
      ],
      "metadata": {
        "colab": {
          "base_uri": "https://localhost:8080/"
        },
        "id": "-sqabuiwPthF",
        "outputId": "4017d9f2-c1d5-4e11-95f4-224a20b0ec4c"
      },
      "execution_count": 18,
      "outputs": [
        {
          "output_type": "stream",
          "name": "stderr",
          "text": [
            "/usr/local/lib/python3.10/dist-packages/keras/src/layers/reshaping/flatten.py:37: UserWarning: Do not pass an `input_shape`/`input_dim` argument to a layer. When using Sequential models, prefer using an `Input(shape)` object as the first layer in the model instead.\n",
            "  super().__init__(**kwargs)\n"
          ]
        }
      ]
    },
    {
      "cell_type": "code",
      "source": [
        "tuner.search_space_summary()"
      ],
      "metadata": {
        "colab": {
          "base_uri": "https://localhost:8080/"
        },
        "id": "jtYUmv02Rh4o",
        "outputId": "91f99b4a-a34a-42bc-ad25-a25a3f2c6073"
      },
      "execution_count": 19,
      "outputs": [
        {
          "output_type": "stream",
          "name": "stdout",
          "text": [
            "Search space summary\n",
            "Default search space size: 4\n",
            "num_hidden_layers (Choice)\n",
            "{'default': 1, 'conditions': [], 'values': [1, 2, 3], 'ordered': True}\n",
            "num_hidden_units (Choice)\n",
            "{'default': 16, 'conditions': [], 'values': [16, 32, 64], 'ordered': True}\n",
            "dropout_rate (Float)\n",
            "{'default': 0.1, 'conditions': [], 'min_value': 0.1, 'max_value': 0.5, 'step': None, 'sampling': 'linear'}\n",
            "lr (Float)\n",
            "{'default': 0.001, 'conditions': [], 'min_value': 0.001, 'max_value': 0.01, 'step': None, 'sampling': 'linear'}\n"
          ]
        }
      ]
    },
    {
      "cell_type": "code",
      "source": [
        "tuner.search(X_train, y_train, epochs=5, validation_data=(X_test, y_test), verbose= False)"
      ],
      "metadata": {
        "colab": {
          "base_uri": "https://localhost:8080/"
        },
        "id": "nvCB_dGFzlgK",
        "outputId": "e45fb350-9150-416c-f71a-2823f6e543a5"
      },
      "execution_count": 20,
      "outputs": [
        {
          "output_type": "stream",
          "name": "stderr",
          "text": [
            "/usr/local/lib/python3.10/dist-packages/keras/src/layers/reshaping/flatten.py:37: UserWarning: Do not pass an `input_shape`/`input_dim` argument to a layer. When using Sequential models, prefer using an `Input(shape)` object as the first layer in the model instead.\n",
            "  super().__init__(**kwargs)\n",
            "/usr/local/lib/python3.10/dist-packages/keras/src/layers/reshaping/flatten.py:37: UserWarning: Do not pass an `input_shape`/`input_dim` argument to a layer. When using Sequential models, prefer using an `Input(shape)` object as the first layer in the model instead.\n",
            "  super().__init__(**kwargs)\n",
            "/usr/local/lib/python3.10/dist-packages/keras/src/layers/reshaping/flatten.py:37: UserWarning: Do not pass an `input_shape`/`input_dim` argument to a layer. When using Sequential models, prefer using an `Input(shape)` object as the first layer in the model instead.\n",
            "  super().__init__(**kwargs)\n",
            "/usr/local/lib/python3.10/dist-packages/keras/src/layers/reshaping/flatten.py:37: UserWarning: Do not pass an `input_shape`/`input_dim` argument to a layer. When using Sequential models, prefer using an `Input(shape)` object as the first layer in the model instead.\n",
            "  super().__init__(**kwargs)\n",
            "/usr/local/lib/python3.10/dist-packages/keras/src/layers/reshaping/flatten.py:37: UserWarning: Do not pass an `input_shape`/`input_dim` argument to a layer. When using Sequential models, prefer using an `Input(shape)` object as the first layer in the model instead.\n",
            "  super().__init__(**kwargs)\n"
          ]
        }
      ]
    },
    {
      "cell_type": "code",
      "source": [
        "tuner.results_summary()"
      ],
      "metadata": {
        "colab": {
          "base_uri": "https://localhost:8080/"
        },
        "id": "hmxeIQ1q3mt4",
        "outputId": "47db232a-48b9-4f76-8b0c-dc578037b7de"
      },
      "execution_count": 21,
      "outputs": [
        {
          "output_type": "stream",
          "name": "stdout",
          "text": [
            "Results summary\n",
            "Results in logs/fashion_mnist\n",
            "Showing 10 best trials\n",
            "Objective(name=\"val_accuracy\", direction=\"max\")\n",
            "\n",
            "Trial 15 summary\n",
            "Hyperparameters:\n",
            "num_hidden_layers: 1\n",
            "num_hidden_units: 64\n",
            "dropout_rate: 0.1\n",
            "lr: 0.001\n",
            "batch_size: 128\n",
            "Score: 0.8709999918937683\n",
            "\n",
            "Trial 16 summary\n",
            "Hyperparameters:\n",
            "num_hidden_layers: 3\n",
            "num_hidden_units: 64\n",
            "dropout_rate: 0.1\n",
            "lr: 0.001\n",
            "batch_size: 32\n",
            "Score: 0.8679999709129333\n",
            "\n",
            "Trial 14 summary\n",
            "Hyperparameters:\n",
            "num_hidden_layers: 3\n",
            "num_hidden_units: 64\n",
            "dropout_rate: 0.18894732488628085\n",
            "lr: 0.004239911467955035\n",
            "batch_size: 128\n",
            "Score: 0.8561000227928162\n",
            "\n",
            "Trial 17 summary\n",
            "Hyperparameters:\n",
            "num_hidden_layers: 1\n",
            "num_hidden_units: 64\n",
            "dropout_rate: 0.1\n",
            "lr: 0.010000000000000002\n",
            "batch_size: 96\n",
            "Score: 0.8536999821662903\n",
            "\n",
            "Trial 10 summary\n",
            "Hyperparameters:\n",
            "num_hidden_layers: 1\n",
            "num_hidden_units: 64\n",
            "dropout_rate: 0.39646285072392495\n",
            "lr: 0.004538636321650285\n",
            "batch_size: 128\n",
            "Score: 0.8521999716758728\n",
            "\n",
            "Trial 19 summary\n",
            "Hyperparameters:\n",
            "num_hidden_layers: 1\n",
            "num_hidden_units: 64\n",
            "dropout_rate: 0.5\n",
            "lr: 0.001\n",
            "batch_size: 32\n",
            "Score: 0.8521999716758728\n",
            "\n",
            "Trial 13 summary\n",
            "Hyperparameters:\n",
            "num_hidden_layers: 1\n",
            "num_hidden_units: 64\n",
            "dropout_rate: 0.34287504159008725\n",
            "lr: 0.007212656687805236\n",
            "batch_size: 128\n",
            "Score: 0.8497999906539917\n",
            "\n",
            "Trial 04 summary\n",
            "Hyperparameters:\n",
            "num_hidden_layers: 1\n",
            "num_hidden_units: 32\n",
            "dropout_rate: 0.34275592694662127\n",
            "lr: 0.004051700186104314\n",
            "batch_size: 64\n",
            "Score: 0.8468999862670898\n",
            "\n",
            "Trial 08 summary\n",
            "Hyperparameters:\n",
            "num_hidden_layers: 3\n",
            "num_hidden_units: 32\n",
            "dropout_rate: 0.2596941654476571\n",
            "lr: 0.0017501631990250953\n",
            "batch_size: 128\n",
            "Score: 0.8402000069618225\n",
            "\n",
            "Trial 07 summary\n",
            "Hyperparameters:\n",
            "num_hidden_layers: 1\n",
            "num_hidden_units: 32\n",
            "dropout_rate: 0.4629248261861456\n",
            "lr: 0.004979175904212081\n",
            "batch_size: 96\n",
            "Score: 0.838699996471405\n"
          ]
        }
      ]
    }
  ]
}